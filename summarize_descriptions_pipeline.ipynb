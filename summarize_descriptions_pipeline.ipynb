{
 "cells": [
  {
   "cell_type": "markdown",
   "id": "b310c219",
   "metadata": {},
   "source": [
    "# Remoção de Descrições 80%+ Iguais"
   ]
  },
  {
   "cell_type": "code",
   "execution_count": null,
   "id": "1551aaaa",
   "metadata": {},
   "outputs": [],
   "source": [
    "import re\n",
    "import pandas as pd\n",
    "import difflib"
   ]
  },
  {
   "cell_type": "code",
   "execution_count": null,
   "id": "91e75ba7",
   "metadata": {},
   "outputs": [],
   "source": [
    "database = pd.read_excel(\".xlsx\") # Epecificar caminho do arquivo\n",
    "count = 0\n",
    "index = 0"
   ]
  },
  {
   "cell_type": "code",
   "execution_count": null,
   "id": "2139eeb1",
   "metadata": {},
   "outputs": [],
   "source": [
    "database = database.reset_index(drop=True)"
   ]
  },
  {
   "cell_type": "code",
   "execution_count": null,
   "id": "0d324129",
   "metadata": {},
   "outputs": [],
   "source": [
    "len(database) # Tamanho inicial da base"
   ]
  },
  {
   "cell_type": "code",
   "execution_count": null,
   "id": "c8093744",
   "metadata": {},
   "outputs": [],
   "source": [
    "while index < len(database):\n",
    "    print(f\"\\033[94m{len(database)}\\033[0m\")\n",
    "    texto = str(database.loc[index, 'dsproduto'])\n",
    "    print(f\"\\033[92m{texto}\\033[0m\")\n",
    "    i = index + 1\n",
    "\n",
    "    while i < len(database):\n",
    "        texto2 = str(database.loc[i, 'dsproduto'])\n",
    "        similaridade = difflib.SequenceMatcher(None, texto, texto2).ratio()\n",
    "        porcentagem = similaridade * 100\n",
    "\n",
    "        if porcentagem > 80:\n",
    "            # Drop direto (reduz base para comparações futuras)\n",
    "            print(database.loc[i, 'dsproduto'])\n",
    "            database.drop(i, inplace=True)\n",
    "            database.reset_index(drop=True, inplace=True)\n",
    "        else:\n",
    "            i += 1\n",
    "    \n",
    "    print(\"____________________________________________________\")\n",
    "\n",
    "    index += 1"
   ]
  },
  {
   "cell_type": "code",
   "execution_count": null,
   "id": "e1120cf9",
   "metadata": {},
   "outputs": [],
   "source": [
    "len(database) # Tamanho final da base"
   ]
  },
  {
   "cell_type": "code",
   "execution_count": null,
   "id": "77cf3273",
   "metadata": {},
   "outputs": [],
   "source": [
    "database.to_excel(\".xlsx\", index=False) # Caminho e nome do arquivo com os resultados\n",
    "\n",
    "# Observação: Evite o mesmo nome de arquivo para evitar sobrescrita."
   ]
  },
  {
   "cell_type": "markdown",
   "id": "04ae8bbc",
   "metadata": {},
   "source": [
    "# Realocando a Categoria com Base nas Descrições de Similaridade 80%+"
   ]
  },
  {
   "cell_type": "code",
   "execution_count": null,
   "id": "05ce8fac",
   "metadata": {},
   "outputs": [],
   "source": [
    "database_resumed = pd.read_excel(\".xlsx\") # Base de dados com descrições resumidas\n",
    "database_original = pd.read_excel(\".xlsx\") # Base de dados original"
   ]
  },
  {
   "cell_type": "code",
   "execution_count": null,
   "id": "3ffb90be",
   "metadata": {},
   "outputs": [],
   "source": [
    "database_resumed = database_resumed.reset_index(drop=True)\n",
    "database_original = database_original.reset_index(drop=True)"
   ]
  },
  {
   "cell_type": "code",
   "execution_count": null,
   "id": "69850c7f",
   "metadata": {},
   "outputs": [],
   "source": [
    "database_resumed = database_resumed[database_resumed[\"categoria\"] == 0]"
   ]
  },
  {
   "cell_type": "code",
   "execution_count": null,
   "id": "47676522",
   "metadata": {},
   "outputs": [],
   "source": [
    "for index_resumed, row_resumed in database_resumed.iterrows():\n",
    "    for index_orig, row_orig in database_original.iterrows():\n",
    "        similarity = difflib.SequenceMatcher(None, str(row_orig[\"dsproduto\"]), str(row_resumed[\"dsproduto\"])).ratio()\n",
    "        if similarity >= 0.80:\n",
    "            database_original.at[index_orig, \"categoria\"] = 0\n",
    "    \n",
    "    print(f\"------{index_resumed}------\")"
   ]
  },
  {
   "cell_type": "code",
   "execution_count": null,
   "id": "7884d098",
   "metadata": {},
   "outputs": [],
   "source": [
    "database_original.to_excel(\".xlsx\", index=False)\n",
    "\n",
    "print(\"Atribuição de categorias finalizada com sucesso.\")"
   ]
  }
 ],
 "metadata": {
  "language_info": {
   "name": "python"
  }
 },
 "nbformat": 4,
 "nbformat_minor": 5
}
